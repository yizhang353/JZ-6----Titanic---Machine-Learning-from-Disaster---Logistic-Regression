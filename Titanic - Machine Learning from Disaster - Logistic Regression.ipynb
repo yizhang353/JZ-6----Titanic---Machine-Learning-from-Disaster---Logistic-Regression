{
 "cells": [
  {
   "cell_type": "markdown",
   "metadata": {
    "_cell_guid": "ebe23886-a441-4876-a6f7-5b13300651e9",
    "_uuid": "4fe532156d67ebeaa0d64853c5a4721dfcdfeaeb"
   },
   "source": [
    "# Titanic\n",
    "https://www.kaggle.com/c/titanic"
   ]
  },
  {
   "cell_type": "markdown",
   "metadata": {
    "_cell_guid": "b2c80f14-5220-487c-a431-edc4e0caebdb",
    "_uuid": "6c9fb94fd5dadcd22ff104729b6b3392a5117e49"
   },
   "source": [
    "加入numpy, pandas, matplot等库"
   ]
  },
  {
   "cell_type": "code",
   "execution_count": 1,
   "metadata": {
    "_cell_guid": "60a9f86c-3966-b593-db50-3117a967407a",
    "_uuid": "57b02fcf2b73c38da2d3a40455b338aa4803f6e2"
   },
   "outputs": [],
   "source": [
    "import numpy as np \n",
    "import pandas as pd \n",
    "import matplotlib.pyplot as plt # 画图常用库"
   ]
  },
  {
   "cell_type": "markdown",
   "metadata": {
    "_cell_guid": "ab14638d-116a-461d-a5cc-1ef378fd3c0c",
    "_uuid": "087ae4cfa02e902ba4005f7dee7af8b6a31541bf"
   },
   "source": [
    "读入数据"
   ]
  },
  {
   "cell_type": "code",
   "execution_count": 2,
   "metadata": {
    "_cell_guid": "6a8f6ab7-616e-cd98-7078-728d76927f61",
    "_uuid": "d6feafe4893963ebc6af76178165069a49c3c61f"
   },
   "outputs": [],
   "source": [
    "dataset=pd.read_csv('./train.csv')\n",
    "testset=pd.read_csv('./test.csv')\n"
   ]
  },
  {
   "cell_type": "code",
   "execution_count": 3,
   "metadata": {
    "_cell_guid": "17f1b110-032d-40a5-9861-cc754d6e5fcc",
    "_uuid": "e357e968986f42a15f78da35b25ade75e8b59e3a"
   },
   "outputs": [
    {
     "data": {
      "text/plain": [
       "Index(['PassengerId', 'Survived', 'Pclass', 'Name', 'Sex', 'Age', 'SibSp',\n",
       "       'Parch', 'Ticket', 'Fare', 'Cabin', 'Embarked'],\n",
       "      dtype='object')"
      ]
     },
     "execution_count": 3,
     "metadata": {},
     "output_type": "execute_result"
    }
   ],
   "source": [
    "dataset.columns"
   ]
  },
  {
   "cell_type": "markdown",
   "metadata": {
    "_cell_guid": "cebcfcf8-e8d7-4e6d-978e-f3acfc4eef6f",
    "_uuid": "904662df2b1e417ee0b9113173be5b8c417a73f0"
   },
   "source": [
    "0, PassengerId：乘客的数字id\n",
    "\n",
    "1, Survived：幸存(1)、死亡(0)\n",
    "\n",
    "2, Pclass：乘客船层—1st = Upper，2nd = Middle， 3rd = Lower\n",
    "\n",
    "3, Name：名字。\n",
    "\n",
    "4, Sex：性别\n",
    "\n",
    "5, Age：年龄\n",
    "\n",
    "6, SibSp：兄弟姐妹和配偶的数量。\n",
    "\n",
    "7, Parch：父母和孩子的数量。\n",
    "\n",
    "8, Ticket：船票号码。\n",
    "\n",
    "9, Fare：船票价钱。\n",
    "\n",
    "10, Cabin：船舱。\n",
    "\n",
    "11, Embarked：从哪个地方登上泰坦尼克号。 C = Cherbourg, Q = Queenstown, S = Southampton"
   ]
  },
  {
   "cell_type": "markdown",
   "metadata": {
    "_cell_guid": "8acd92c4-e34a-4c3b-a365-2df66f3033f8",
    "_uuid": "17a6d21d206e84f0b7c27b2eb774fcf5f4eff927"
   },
   "source": [
    "# 查看读入数据"
   ]
  },
  {
   "cell_type": "code",
   "execution_count": 4,
   "metadata": {
    "_cell_guid": "b4fab6a2-231c-468d-b2a9-b01837a114cd",
    "_uuid": "f4350dd8917375494e67cd269deabf79223c2db7"
   },
   "outputs": [
    {
     "data": {
      "text/html": [
       "<div>\n",
       "<style scoped>\n",
       "    .dataframe tbody tr th:only-of-type {\n",
       "        vertical-align: middle;\n",
       "    }\n",
       "\n",
       "    .dataframe tbody tr th {\n",
       "        vertical-align: top;\n",
       "    }\n",
       "\n",
       "    .dataframe thead th {\n",
       "        text-align: right;\n",
       "    }\n",
       "</style>\n",
       "<table border=\"1\" class=\"dataframe\">\n",
       "  <thead>\n",
       "    <tr style=\"text-align: right;\">\n",
       "      <th></th>\n",
       "      <th>PassengerId</th>\n",
       "      <th>Survived</th>\n",
       "      <th>Pclass</th>\n",
       "      <th>Name</th>\n",
       "      <th>Sex</th>\n",
       "      <th>Age</th>\n",
       "      <th>SibSp</th>\n",
       "      <th>Parch</th>\n",
       "      <th>Ticket</th>\n",
       "      <th>Fare</th>\n",
       "      <th>Cabin</th>\n",
       "      <th>Embarked</th>\n",
       "    </tr>\n",
       "  </thead>\n",
       "  <tbody>\n",
       "    <tr>\n",
       "      <td>0</td>\n",
       "      <td>1</td>\n",
       "      <td>0</td>\n",
       "      <td>3</td>\n",
       "      <td>Braund, Mr. Owen Harris</td>\n",
       "      <td>male</td>\n",
       "      <td>22.0</td>\n",
       "      <td>1</td>\n",
       "      <td>0</td>\n",
       "      <td>A/5 21171</td>\n",
       "      <td>7.2500</td>\n",
       "      <td>NaN</td>\n",
       "      <td>S</td>\n",
       "    </tr>\n",
       "    <tr>\n",
       "      <td>1</td>\n",
       "      <td>2</td>\n",
       "      <td>1</td>\n",
       "      <td>1</td>\n",
       "      <td>Cumings, Mrs. John Bradley (Florence Briggs Th...</td>\n",
       "      <td>female</td>\n",
       "      <td>38.0</td>\n",
       "      <td>1</td>\n",
       "      <td>0</td>\n",
       "      <td>PC 17599</td>\n",
       "      <td>71.2833</td>\n",
       "      <td>C85</td>\n",
       "      <td>C</td>\n",
       "    </tr>\n",
       "    <tr>\n",
       "      <td>2</td>\n",
       "      <td>3</td>\n",
       "      <td>1</td>\n",
       "      <td>3</td>\n",
       "      <td>Heikkinen, Miss. Laina</td>\n",
       "      <td>female</td>\n",
       "      <td>26.0</td>\n",
       "      <td>0</td>\n",
       "      <td>0</td>\n",
       "      <td>STON/O2. 3101282</td>\n",
       "      <td>7.9250</td>\n",
       "      <td>NaN</td>\n",
       "      <td>S</td>\n",
       "    </tr>\n",
       "    <tr>\n",
       "      <td>3</td>\n",
       "      <td>4</td>\n",
       "      <td>1</td>\n",
       "      <td>1</td>\n",
       "      <td>Futrelle, Mrs. Jacques Heath (Lily May Peel)</td>\n",
       "      <td>female</td>\n",
       "      <td>35.0</td>\n",
       "      <td>1</td>\n",
       "      <td>0</td>\n",
       "      <td>113803</td>\n",
       "      <td>53.1000</td>\n",
       "      <td>C123</td>\n",
       "      <td>S</td>\n",
       "    </tr>\n",
       "    <tr>\n",
       "      <td>4</td>\n",
       "      <td>5</td>\n",
       "      <td>0</td>\n",
       "      <td>3</td>\n",
       "      <td>Allen, Mr. William Henry</td>\n",
       "      <td>male</td>\n",
       "      <td>35.0</td>\n",
       "      <td>0</td>\n",
       "      <td>0</td>\n",
       "      <td>373450</td>\n",
       "      <td>8.0500</td>\n",
       "      <td>NaN</td>\n",
       "      <td>S</td>\n",
       "    </tr>\n",
       "  </tbody>\n",
       "</table>\n",
       "</div>"
      ],
      "text/plain": [
       "   PassengerId  Survived  Pclass  \\\n",
       "0            1         0       3   \n",
       "1            2         1       1   \n",
       "2            3         1       3   \n",
       "3            4         1       1   \n",
       "4            5         0       3   \n",
       "\n",
       "                                                Name     Sex   Age  SibSp  \\\n",
       "0                            Braund, Mr. Owen Harris    male  22.0      1   \n",
       "1  Cumings, Mrs. John Bradley (Florence Briggs Th...  female  38.0      1   \n",
       "2                             Heikkinen, Miss. Laina  female  26.0      0   \n",
       "3       Futrelle, Mrs. Jacques Heath (Lily May Peel)  female  35.0      1   \n",
       "4                           Allen, Mr. William Henry    male  35.0      0   \n",
       "\n",
       "   Parch            Ticket     Fare Cabin Embarked  \n",
       "0      0         A/5 21171   7.2500   NaN        S  \n",
       "1      0          PC 17599  71.2833   C85        C  \n",
       "2      0  STON/O2. 3101282   7.9250   NaN        S  \n",
       "3      0            113803  53.1000  C123        S  \n",
       "4      0            373450   8.0500   NaN        S  "
      ]
     },
     "execution_count": 4,
     "metadata": {},
     "output_type": "execute_result"
    }
   ],
   "source": [
    "dataset.head()"
   ]
  },
  {
   "cell_type": "code",
   "execution_count": 5,
   "metadata": {
    "_cell_guid": "8ee3d6b0-7b65-477d-8629-2f437eda1dd9",
    "_uuid": "5b15bfaa174d9ae88e9030acbc71d7a56003f583"
   },
   "outputs": [
    {
     "name": "stdout",
     "output_type": "stream",
     "text": [
      "PassengerId      int64\n",
      "Survived         int64\n",
      "Pclass           int64\n",
      "Name            object\n",
      "Sex             object\n",
      "Age            float64\n",
      "SibSp            int64\n",
      "Parch            int64\n",
      "Ticket          object\n",
      "Fare           float64\n",
      "Cabin           object\n",
      "Embarked        object\n",
      "dtype: object\n"
     ]
    }
   ],
   "source": [
    "print(dataset.dtypes)\n"
   ]
  },
  {
   "cell_type": "code",
   "execution_count": 6,
   "metadata": {
    "_cell_guid": "60369e06-5d1f-4462-95c3-3e65365c4b04",
    "_uuid": "bd93cf5d39f332ea4116757b2b84faf901991f62"
   },
   "outputs": [
    {
     "name": "stdout",
     "output_type": "stream",
     "text": [
      "       PassengerId    Survived      Pclass         Age       SibSp  \\\n",
      "count   891.000000  891.000000  891.000000  714.000000  891.000000   \n",
      "mean    446.000000    0.383838    2.308642   29.699118    0.523008   \n",
      "std     257.353842    0.486592    0.836071   14.526497    1.102743   \n",
      "min       1.000000    0.000000    1.000000    0.420000    0.000000   \n",
      "25%     223.500000    0.000000    2.000000   20.125000    0.000000   \n",
      "50%     446.000000    0.000000    3.000000   28.000000    0.000000   \n",
      "75%     668.500000    1.000000    3.000000   38.000000    1.000000   \n",
      "max     891.000000    1.000000    3.000000   80.000000    8.000000   \n",
      "\n",
      "            Parch        Fare  \n",
      "count  891.000000  891.000000  \n",
      "mean     0.381594   32.204208  \n",
      "std      0.806057   49.693429  \n",
      "min      0.000000    0.000000  \n",
      "25%      0.000000    7.910400  \n",
      "50%      0.000000   14.454200  \n",
      "75%      0.000000   31.000000  \n",
      "max      6.000000  512.329200  \n"
     ]
    }
   ],
   "source": [
    "print(dataset.describe())\n"
   ]
  },
  {
   "cell_type": "markdown",
   "metadata": {
    "_cell_guid": "25a1f460-8de5-4cc6-b053-8f3f7422a519",
    "_uuid": "dc607730fd7cacbd254482925247d53fc4788490"
   },
   "source": [
    "# 仔细观察数据"
   ]
  },
  {
   "cell_type": "markdown",
   "metadata": {
    "_cell_guid": "4875e120-5d24-42b1-81e7-24e31210cb55",
    "_uuid": "04a36d4a344be1e52922574511ac6ccaadd94e73"
   },
   "source": [
    "观察年龄"
   ]
  },
  {
   "cell_type": "code",
   "execution_count": 7,
   "metadata": {
    "_cell_guid": "223f3ca8-1342-49da-ad6b-1bf661744794",
    "_uuid": "b115ef45c12116de1d7e345370b23fd32456b4d9"
   },
   "outputs": [
    {
     "data": {
      "image/png": "[encoded data removed]",
      "text/plain": [
       "<Figure size 432x288 with 1 Axes>"
      ]
     },
     "metadata": {
      "needs_background": "light"
     },
     "output_type": "display_data"
    }
   ],
   "source": [
    "Survived_m = dataset.Survived[dataset.Sex == 'male'].value_counts()\n",
    "Survived_f = dataset.Survived[dataset.Sex == 'female'].value_counts()\n",
    "\n",
    "df=pd.DataFrame({'male':Survived_m, 'female':Survived_f})\n",
    "df.plot(kind='bar', stacked=True)\n",
    "plt.title(\"survived by sex\")\n",
    "plt.xlabel(\"survived\") \n",
    "plt.ylabel(\"count\")\n",
    "plt.show()\n"
   ]
  },
  {
   "cell_type": "markdown",
   "metadata": {
    "_cell_guid": "4a4287d2-f6c2-488e-936e-194414da82d5",
    "_uuid": "590001bfcad8b6f69bed8992626d6aeb3139939d"
   },
   "source": [
    "看看年龄"
   ]
  },
  {
   "cell_type": "code",
   "execution_count": 8,
   "metadata": {
    "_cell_guid": "e18594a8-4106-4ff8-9a69-71fd3a402fd1",
    "_uuid": "b4498acf1475b1d3e4f26fdbede5f491e01bae5c"
   },
   "outputs": [
    {
     "data": {
      "image/png": "[encoded data removed]",
      "text/plain": [
       "<Figure size 432x288 with 1 Axes>"
      ]
     },
     "metadata": {
      "needs_background": "light"
     },
     "output_type": "display_data"
    },
    {
     "data": {
      "image/png": "[encoded data removed]",
      "text/plain": [
       "<Figure size 432x288 with 1 Axes>"
      ]
     },
     "metadata": {
      "needs_background": "light"
     },
     "output_type": "display_data"
    },
    {
     "data": {
      "image/png": "[encoded data removed]",
      "text/plain": [
       "<Figure size 432x288 with 1 Axes>"
      ]
     },
     "metadata": {
      "needs_background": "light"
     },
     "output_type": "display_data"
    }
   ],
   "source": [
    "dataset['Age'].hist()  \n",
    "plt.ylabel(\"Number\") \n",
    "plt.xlabel(\"Age\") \n",
    "plt.title('Age distribution')\n",
    "plt.show() \n",
    "\n",
    "dataset[dataset.Survived==0]['Age'].hist()  \n",
    "plt.ylabel(\"Number\") \n",
    "plt.xlabel(\"Age\") \n",
    "plt.title('Age distribution of people who did not survive')\n",
    "plt.show()\n",
    "\n",
    "dataset[dataset.Survived==1]['Age'].hist()  \n",
    "plt.ylabel(\"Number\") \n",
    "plt.xlabel(\"Age\") \n",
    "plt.title('Age distribution of people who survived')\n",
    "plt.show()"
   ]
  },
  {
   "cell_type": "markdown",
   "metadata": {
    "_cell_guid": "2907de69-55ca-4029-8e7e-77948688c7d8",
    "_uuid": "26fdcafa3134576332a3bebf386d201c5580c698"
   },
   "source": [
    "看看船票价钱"
   ]
  },
  {
   "cell_type": "code",
   "execution_count": 9,
   "metadata": {
    "_cell_guid": "35e0b827-4715-468f-ac2e-80a3e774d19d",
    "_uuid": "18d41a2430658cf543f43aaf9459fb70e8ebf3b0"
   },
   "outputs": [
    {
     "data": {
      "image/png": "[encoded data removed]",
      "text/plain": [
       "<Figure size 432x288 with 1 Axes>"
      ]
     },
     "metadata": {
      "needs_background": "light"
     },
     "output_type": "display_data"
    },
    {
     "data": {
      "image/png": "[encoded data removed]",
      "text/plain": [
       "<Figure size 432x288 with 1 Axes>"
      ]
     },
     "metadata": {
      "needs_background": "light"
     },
     "output_type": "display_data"
    },
    {
     "data": {
      "image/png": "[encoded data removed]",
      "text/plain": [
       "<Figure size 432x288 with 1 Axes>"
      ]
     },
     "metadata": {
      "needs_background": "light"
     },
     "output_type": "display_data"
    }
   ],
   "source": [
    "dataset['Fare'].hist()  \n",
    "plt.ylabel(\"Number\") \n",
    "plt.xlabel(\"Fare\") \n",
    "plt.title('Fare distribution')\n",
    "plt.show() \n",
    "\n",
    "dataset[dataset.Survived==0]['Fare'].hist()  \n",
    "plt.ylabel(\"Number\") \n",
    "plt.xlabel(\"Fare\") \n",
    "plt.title('Fare distribution of people who did not survive')\n",
    "plt.show()\n",
    "\n",
    "dataset[dataset.Survived==1]['Fare'].hist()  \n",
    "plt.ylabel(\"Number\") \n",
    "plt.xlabel(\"Fare\") \n",
    "plt.title('Fare distribution of people who survived')\n",
    "plt.show()"
   ]
  },
  {
   "cell_type": "markdown",
   "metadata": {
    "_cell_guid": "0a40118b-5421-4d4d-8992-de247f07bc6d",
    "_uuid": "3db2da0fc90f3b97d52e1007eff30e86483a1f01"
   },
   "source": [
    "观察乘客舱层"
   ]
  },
  {
   "cell_type": "code",
   "execution_count": 10,
   "metadata": {
    "_cell_guid": "a1640e4a-00ef-43b3-bcd6-5b6645b0677f",
    "_uuid": "ee49f83f963f1953a743f7bd011005fd6c3317fe"
   },
   "outputs": [
    {
     "data": {
      "image/png": "[encoded data removed]",
      "text/plain": [
       "<Figure size 432x288 with 1 Axes>"
      ]
     },
     "metadata": {
      "needs_background": "light"
     },
     "output_type": "display_data"
    },
    {
     "name": "stdout",
     "output_type": "stream",
     "text": [
      "False\n",
      "    p1  p2   p3\n",
      "0   80  97  372\n",
      "1  136  87  119\n"
     ]
    },
    {
     "data": {
      "image/png": "[encoded data removed]",
      "text/plain": [
       "<Figure size 432x288 with 1 Axes>"
      ]
     },
     "metadata": {
      "needs_background": "light"
     },
     "output_type": "display_data"
    }
   ],
   "source": [
    "dataset['Pclass'].hist()  \n",
    "plt.show()  \n",
    "print(dataset['Pclass'].isnull().values.any())\n",
    "\n",
    "Survived_p1 = dataset.Survived[dataset['Pclass'] == 1].value_counts()\n",
    "Survived_p2 = dataset.Survived[dataset['Pclass'] == 2].value_counts()\n",
    "Survived_p3 = dataset.Survived[dataset['Pclass'] == 3].value_counts()\n",
    "\n",
    "df=pd.DataFrame({'p1':Survived_p1, 'p2':Survived_p2, 'p3':Survived_p3})\n",
    "print(df)\n",
    "df.plot(kind='bar', stacked=True)\n",
    "plt.title(\"survived by pclass\")\n",
    "plt.xlabel(\"pclass\") \n",
    "plt.ylabel(\"count\")\n",
    "plt.show()\n"
   ]
  },
  {
   "cell_type": "raw",
   "metadata": {
    "_cell_guid": "8d962d68-a412-41fa-b83d-07ea09f019c4",
    "_uuid": "3b5fd6661e2527f98fa6643e432d1cfdd510ed22"
   },
   "source": [
    "观察登船地点"
   ]
  },
  {
   "cell_type": "code",
   "execution_count": 11,
   "metadata": {
    "_cell_guid": "799dc149-5bce-434d-8a4c-e6f7eb6de6be",
    "_uuid": "bc8b997f2fe749755530a087e751f5db055a3713"
   },
   "outputs": [
    {
     "name": "stdout",
     "output_type": "stream",
     "text": [
      "0    427\n",
      "1    217\n",
      "Name: Survived, dtype: int64\n"
     ]
    },
    {
     "data": {
      "image/png": "[encoded data removed]",
      "text/plain": [
       "<Figure size 432x288 with 1 Axes>"
      ]
     },
     "metadata": {
      "needs_background": "light"
     },
     "output_type": "display_data"
    }
   ],
   "source": [
    "Survived_S = dataset.Survived[dataset['Embarked'] == 'S'].value_counts()\n",
    "Survived_C = dataset.Survived[dataset['Embarked'] == 'C'].value_counts()\n",
    "Survived_Q = dataset.Survived[dataset['Embarked'] == 'Q'].value_counts()\n",
    "\n",
    "print(Survived_S)\n",
    "df = pd.DataFrame({'S':Survived_S, 'C':Survived_C, 'Q':Survived_Q})\n",
    "df.plot(kind='bar', stacked=True)\n",
    "plt.title(\"Survived by Embarked\")\n",
    "plt.xlabel(\"Survival\") \n",
    "plt.ylabel(\"count\")\n",
    "plt.show()\n"
   ]
  },
  {
   "cell_type": "markdown",
   "metadata": {
    "_cell_guid": "e8b76e26-c3e3-45f6-a077-e25624b21e3f",
    "_uuid": "b82747496e4121db5c320a3d438dc4a0489dc266"
   },
   "source": [
    "# 保留下有效数据\n",
    "pclass, sex, age, fare, embarked"
   ]
  },
  {
   "cell_type": "markdown",
   "metadata": {
    "_cell_guid": "d2375df6-f91a-44e2-b506-cdcc446b7ffa",
    "_uuid": "d1ed929810e9d6ae4feeff92bb6d4e550ddb67c0"
   },
   "source": [
    "# 分离label 和 训练数据"
   ]
  },
  {
   "cell_type": "code",
   "execution_count": 12,
   "metadata": {
    "_cell_guid": "52954b1c-1a2f-4e99-ad94-811d169d3f2b",
    "_uuid": "fcdd16b7b1565f9d7ce8d6e93638251116523318"
   },
   "outputs": [
    {
     "name": "stdout",
     "output_type": "stream",
     "text": [
      "(891, 5)\n",
      "     Pclass     Sex   Age     Fare Embarked\n",
      "0         3    male  22.0   7.2500        S\n",
      "1         1  female  38.0  71.2833        C\n",
      "2         3  female  26.0   7.9250        S\n",
      "3         1  female  35.0  53.1000        S\n",
      "4         3    male  35.0   8.0500        S\n",
      "..      ...     ...   ...      ...      ...\n",
      "886       2    male  27.0  13.0000        S\n",
      "887       1  female  19.0  30.0000        S\n",
      "888       3  female   NaN  23.4500        S\n",
      "889       1    male  26.0  30.0000        C\n",
      "890       3    male  32.0   7.7500        Q\n",
      "\n",
      "[891 rows x 5 columns]\n"
     ]
    }
   ],
   "source": [
    "label=dataset.loc[:,'Survived']\n",
    "data=dataset.loc[:,['Pclass', 'Sex', 'Age', 'Fare', 'Embarked']]\n",
    "testdat=testset.loc[:,['Pclass', 'Sex', 'Age', 'Fare', 'Embarked']]\n",
    "\n",
    "print(data.shape)\n",
    "print(data)"
   ]
  },
  {
   "cell_type": "markdown",
   "metadata": {
    "_cell_guid": "bbcbd756-5eaa-4ab8-bd0d-440da48c4c27",
    "_uuid": "3c02aff1d0a144253dda3bc8cf9a52833e081ad0"
   },
   "source": [
    "处理空数据"
   ]
  },
  {
   "cell_type": "code",
   "execution_count": 13,
   "metadata": {
    "_cell_guid": "735702af-c353-40b4-b86d-c208082208cb",
    "_uuid": "b01283125cf0ace204768fb6f0adc5707e75df8b",
    "scrolled": true
   },
   "outputs": [
    {
     "name": "stdout",
     "output_type": "stream",
     "text": [
      "True\n",
      "False\n",
      "True\n",
      "False\n",
      "     Pclass     Sex   Age     Fare Embarked\n",
      "0         3    male  22.0   7.2500        S\n",
      "1         1  female  38.0  71.2833        C\n",
      "2         3  female  26.0   7.9250        S\n",
      "3         1  female  35.0  53.1000        S\n",
      "4         3    male  35.0   8.0500        S\n",
      "..      ...     ...   ...      ...      ...\n",
      "886       2    male  27.0  13.0000        S\n",
      "887       1  female  19.0  30.0000        S\n",
      "888       3  female  28.0  23.4500        S\n",
      "889       1    male  26.0  30.0000        C\n",
      "890       3    male  32.0   7.7500        Q\n",
      "\n",
      "[891 rows x 5 columns]\n"
     ]
    }
   ],
   "source": [
    "def fill_NAN(data):  \n",
    "    data_copy = data.copy(deep=True)\n",
    "    data_copy.loc[:,'Age'] = data_copy['Age'].fillna(data_copy['Age'].median())\n",
    "    data_copy.loc[:,'Fare'] = data_copy['Fare'].fillna(data_copy['Fare'].median())\n",
    "    data_copy.loc[:,'Pclass'] = data_copy['Pclass'].fillna(data_copy['Pclass'].median())\n",
    "    data_copy.loc[:,'Sex'] = data_copy['Sex'].fillna('female')\n",
    "    data_copy.loc[:,'Embarked'] = data_copy['Embarked'].fillna('S')\n",
    "    return data_copy\n",
    "\n",
    "\n",
    "data_no_nan = fill_NAN(data)\n",
    "testdat_no_nan = fill_NAN(testdat)\n",
    "\n",
    "print(testdat.isnull().values.any())    \n",
    "print(testdat_no_nan.isnull().values.any())\n",
    "print(data.isnull().values.any())   \n",
    "print(data_no_nan.isnull().values.any())    \n",
    "\n",
    "print(data_no_nan)\n",
    "\n",
    "# print(data)"
   ]
  },
  {
   "cell_type": "markdown",
   "metadata": {
    "_cell_guid": "1cc9e4a4-58d4-4987-b559-a83c7c6f13fb",
    "_uuid": "298eff3aa104f21aea18864be43ed587eff388c3"
   },
   "source": [
    "处理Sex "
   ]
  },
  {
   "cell_type": "code",
   "execution_count": 14,
   "metadata": {
    "_cell_guid": "5a477dc7-3bef-44a9-9d1d-62d75aea1fde",
    "_uuid": "4fdfefb9a2435dc22bad0db4188bf8168af4a49c"
   },
   "outputs": [
    {
     "name": "stdout",
     "output_type": "stream",
     "text": [
      "False\n",
      "     Pclass  Sex   Age      Fare Embarked\n",
      "0         3    1  34.5    7.8292        Q\n",
      "1         3    0  47.0    7.0000        S\n",
      "2         2    1  62.0    9.6875        Q\n",
      "3         3    1  27.0    8.6625        S\n",
      "4         3    0  22.0   12.2875        S\n",
      "..      ...  ...   ...       ...      ...\n",
      "413       3    1  27.0    8.0500        S\n",
      "414       1    0  39.0  108.9000        C\n",
      "415       3    1  38.5    7.2500        S\n",
      "416       3    1  27.0    8.0500        S\n",
      "417       3    1  27.0   22.3583        C\n",
      "\n",
      "[418 rows x 5 columns]\n"
     ]
    }
   ],
   "source": [
    "print(data_no_nan['Sex'].isnull().values.any())\n",
    "\n",
    "def transfer_sex(data):\n",
    "    data_copy = data.copy(deep=True)\n",
    "    data_copy.loc[data_copy['Sex'] == 'female', 'Sex'] = 0\n",
    "    data_copy.loc[data_copy['Sex'] == 'male', 'Sex'] = 1\n",
    "    return data_copy\n",
    "\n",
    "data_after_sex = transfer_sex(data_no_nan)\n",
    "testdat_after_sex = transfer_sex(testdat_no_nan)\n",
    "print(testdat_after_sex)\n",
    "    "
   ]
  },
  {
   "cell_type": "markdown",
   "metadata": {
    "_cell_guid": "2c5dccc1-a9e1-4ef7-bde2-4ddf3fa55853",
    "_uuid": "958cce94f915427bb8bbc8ce36f6a14eb82b5531"
   },
   "source": [
    "处理Embarked"
   ]
  },
  {
   "cell_type": "code",
   "execution_count": 15,
   "metadata": {
    "_cell_guid": "0385b439-c249-4bf0-8b08-50c9a83aba6e",
    "_uuid": "db349e4c947773e743c4cc67c2afd6a2a1ac48d0"
   },
   "outputs": [
    {
     "name": "stdout",
     "output_type": "stream",
     "text": [
      "     Pclass  Sex   Age      Fare  Embarked\n",
      "0         3    1  34.5    7.8292         2\n",
      "1         3    0  47.0    7.0000         0\n",
      "2         2    1  62.0    9.6875         2\n",
      "3         3    1  27.0    8.6625         0\n",
      "4         3    0  22.0   12.2875         0\n",
      "..      ...  ...   ...       ...       ...\n",
      "413       3    1  27.0    8.0500         0\n",
      "414       1    0  39.0  108.9000         1\n",
      "415       3    1  38.5    7.2500         0\n",
      "416       3    1  27.0    8.0500         0\n",
      "417       3    1  27.0   22.3583         1\n",
      "\n",
      "[418 rows x 5 columns]\n"
     ]
    }
   ],
   "source": [
    "\n",
    "def transfer_embark(data):\n",
    "    data_copy = data.copy(deep=True)\n",
    "    data_copy.loc[data_copy['Embarked'] == 'S', 'Embarked'] = 0\n",
    "    data_copy.loc[data_copy['Embarked'] == 'C', 'Embarked'] = 1\n",
    "    data_copy.loc[data_copy['Embarked'] == 'Q', 'Embarked'] = 2\n",
    "    return data_copy\n",
    "\n",
    "data_after_embarked = transfer_embark(data_after_sex)\n",
    "testdat_after_embarked = transfer_embark(testdat_after_sex)\n",
    "print(testdat_after_embarked)"
   ]
  },
  {
   "cell_type": "markdown",
   "metadata": {
    "_cell_guid": "061cef46-d4c4-4a87-b6a0-75806f07f776",
    "_uuid": "721574284a3265c0e2e4896c90d2a7796743d202"
   },
   "source": [
    "训练数据"
   ]
  },
  {
   "cell_type": "code",
   "execution_count": 16,
   "metadata": {
    "_cell_guid": "ca512835-f047-0dcf-3e77-ae039d50d118",
    "_uuid": "7bfe1f6942fb5161987345aea0f5b5d092223f96"
   },
   "outputs": [],
   "source": [
    "# 训练数据\n",
    "\n",
    "data_now = data_after_embarked\n",
    "testdat_now = testdat_after_embarked\n",
    "from sklearn.model_selection import train_test_split\n",
    "\n",
    "\n",
    "train_data,val_data,train_labels,val_labels=train_test_split(data_now,label,random_state=0,test_size=0.2)\n",
    "\n"
   ]
  },
  {
   "cell_type": "code",
   "execution_count": 17,
   "metadata": {
    "_cell_guid": "4ebfd07f-57de-4841-85d8-6c3d0807f766",
    "_uuid": "cc6ec33d79836b2423f8a0473e99d799143546c8"
   },
   "outputs": [
    {
     "name": "stdout",
     "output_type": "stream",
     "text": [
      "(712, 5) (179, 5) (712,) (179,)\n"
     ]
    }
   ],
   "source": [
    "print(train_data.shape, val_data.shape, train_labels.shape, val_labels.shape)"
   ]
  },
  {
   "cell_type": "code",
   "execution_count": 18,
   "metadata": {
    "_cell_guid": "e5896690-efca-352d-fab5-50e6e41849fb",
    "_uuid": "3f8146a566abdc11b3d69648d59f7d44a3982e0c"
   },
   "outputs": [
    {
     "name": "stdout",
     "output_type": "stream",
     "text": [
      "K= 1\n",
      "0.6703910614525139\n",
      "K= 2\n",
      "0.6871508379888268\n",
      "K= 3\n",
      "0.7039106145251397\n",
      "K= 4\n",
      "0.6983240223463687\n",
      "K= 5\n",
      "0.7318435754189944\n",
      "K= 6\n",
      "0.7150837988826816\n",
      "K= 7\n",
      "0.7430167597765364\n",
      "K= 8\n",
      "0.6983240223463687\n",
      "K= 9\n",
      "0.7318435754189944\n",
      "K= 10\n",
      "0.7374301675977654\n",
      "K= 11\n",
      "0.7318435754189944\n",
      "K= 12\n",
      "0.7262569832402235\n",
      "K= 13\n",
      "0.7262569832402235\n",
      "K= 14\n",
      "0.7206703910614525\n",
      "K= 15\n",
      "0.7318435754189944\n",
      "K= 16\n",
      "0.7039106145251397\n",
      "K= 17\n",
      "0.7374301675977654\n",
      "K= 18\n",
      "0.7262569832402235\n",
      "K= 19\n",
      "0.7374301675977654\n",
      "K= 20\n",
      "0.7374301675977654\n",
      "K= 21\n",
      "0.7597765363128491\n",
      "K= 22\n",
      "0.7486033519553073\n",
      "K= 23\n",
      "0.7541899441340782\n",
      "K= 24\n",
      "0.7430167597765364\n",
      "K= 25\n",
      "0.7597765363128491\n",
      "K= 26\n",
      "0.7430167597765364\n",
      "K= 27\n",
      "0.7541899441340782\n",
      "K= 28\n",
      "0.7541899441340782\n",
      "K= 29\n",
      "0.7597765363128491\n",
      "K= 30\n",
      "0.7541899441340782\n",
      "K= 31\n",
      "0.7541899441340782\n",
      "K= 32\n",
      "0.7541899441340782\n",
      "K= 33\n",
      "0.7653631284916201\n",
      "K= 34\n",
      "0.7597765363128491\n",
      "K= 35\n",
      "0.7653631284916201\n",
      "K= 36\n",
      "0.7541899441340782\n",
      "K= 37\n",
      "0.7374301675977654\n",
      "K= 38\n",
      "0.7541899441340782\n",
      "K= 39\n",
      "0.7541899441340782\n",
      "K= 40\n",
      "0.7486033519553073\n",
      "K= 41\n",
      "0.7486033519553073\n",
      "K= 42\n",
      "0.7486033519553073\n",
      "K= 43\n",
      "0.7374301675977654\n",
      "K= 44\n",
      "0.7430167597765364\n",
      "K= 45\n",
      "0.7318435754189944\n",
      "K= 46\n",
      "0.7486033519553073\n",
      "K= 47\n",
      "0.7486033519553073\n",
      "K= 48\n",
      "0.7486033519553073\n",
      "K= 49\n",
      "0.7486033519553073\n",
      "K= 50\n",
      "0.7318435754189944\n"
     ]
    }
   ],
   "source": [
    "from sklearn.neighbors import KNeighborsClassifier\n",
    "from sklearn.metrics import accuracy_score\n",
    "k_range = range(1, 51)\n",
    "k_scores = []\n",
    "for K in k_range:\n",
    "    clf=KNeighborsClassifier(n_neighbors = K)\n",
    "    clf.fit(train_data,train_labels)\n",
    "    print('K=', K)\n",
    "    predictions=clf.predict(val_data)\n",
    "    score = accuracy_score(val_labels,predictions)\n",
    "    print(score)\n",
    "    k_scores.append(score)"
   ]
  },
  {
   "cell_type": "code",
   "execution_count": 19,
   "metadata": {
    "_cell_guid": "e9a7dbf0-acb3-4322-b236-61f2b2962aa1",
    "_uuid": "6472a48f9e9ef872d2ed50b3d4f9789780a15832"
   },
   "outputs": [
    {
     "data": {
      "image/png": "[encoded data removed]",
      "text/plain": [
       "<Figure size 432x288 with 1 Axes>"
      ]
     },
     "metadata": {
      "needs_background": "light"
     },
     "output_type": "display_data"
    },
    {
     "name": "stdout",
     "output_type": "stream",
     "text": [
      "[ 0  1  3  7  2 15  5 13 17 11 12 44 14 49  8 10  4  9 42 36 16 19 18 43\n",
      "  6 25 23 45 48 46 41 21 40 39 47 38 37 31 30 29 27 26 22 35 33 28 20 24\n",
      " 34 32]\n"
     ]
    }
   ],
   "source": [
    "plt.plot(k_range, k_scores)\n",
    "plt.xlabel('K for KNN')\n",
    "plt.ylabel('Accuracy on validation set')\n",
    "plt.show()\n",
    "print(np.array(k_scores).argsort())"
   ]
  },
  {
   "cell_type": "code",
   "execution_count": 20,
   "metadata": {
    "_cell_guid": "58afa24c-c277-9764-f235-b110b512ea0d",
    "_uuid": "ac080e86c4587fa8df2cd957cf9c848ebda0c7d6"
   },
   "outputs": [],
   "source": [
    "# 预测测试实验数据\n",
    "\n",
    "clf=KNeighborsClassifier(n_neighbors=33)\n",
    "clf.fit(data_now,label)\n",
    "result=clf.predict(testdat_now)"
   ]
  },
  {
   "cell_type": "code",
   "execution_count": 21,
   "metadata": {
    "_cell_guid": "5cd9c1a3-f817-bbde-96c4-350cf77b0206",
    "_uuid": "9d1f975337d4b4d161240d36ab9f040266120407"
   },
   "outputs": [
    {
     "name": "stdout",
     "output_type": "stream",
     "text": [
      "[0 0 0 0 0 0 0 0 0 0 0 0 1 0 1 1 0 0 0 0 1 0 1 1 1 0 1 0 0 0 0 1 0 0 1 0 0\n",
      " 0 0 1 0 0 0 0 1 0 0 0 1 0 1 0 0 1 0 0 0 0 0 1 0 1 0 0 1 0 0 0 1 1 0 0 0 0\n",
      " 1 1 0 0 0 0 1 1 0 0 0 0 0 0 0 1 0 0 1 0 0 0 1 0 0 0 1 0 0 0 0 0 0 0 0 0 0\n",
      " 0 0 0 1 0 0 1 1 0 0 0 1 0 0 0 0 0 0 0 0 0 0 0 0 0 0 0 0 1 0 1 1 0 0 0 1 0\n",
      " 0 0 1 0 0 0 0 0 1 0 0 0 0 1 0 0 0 0 0 1 0 0 0 0 0 0 0 0 1 1 0 1 0 1 1 0 1\n",
      " 0 0 0 0 0 0 0 0 0 0 0 1 0 0 0 0 1 1 0 0 0 0 0 1 0 0 0 1 0 0 0 0 1 1 0 1 0\n",
      " 0 0 0 0 0 0 0 0 0 1 0 0 1 0 1 0 0 1 0 0 1 0 0 1 0 0 0 0 1 0 1 0 0 0 0 0 0\n",
      " 0 0 0 0 1 0 0 0 0 0 0 1 0 1 0 0 1 0 0 0 0 0 1 0 1 1 0 0 1 0 0 0 1 0 1 0 0\n",
      " 0 0 1 0 0 0 0 0 0 0 1 1 1 0 0 0 0 0 1 0 1 0 0 1 0 0 0 1 1 0 0 1 0 0 0 0 0\n",
      " 0 0 0 0 0 1 0 0 0 0 1 0 0 0 0 0 0 1 0 1 1 1 0 0 0 0 0 1 0 0 0 1 0 0 0 1 0\n",
      " 0 1 0 0 1 1 0 0 0 0 0 0 0 0 0 1 0 0 0 1 1 0 0 0 0 1 0 1 0 0 1 0 1 0 0 0 0\n",
      " 1 0 1 0 1 0 0 1 0 0 0]\n"
     ]
    }
   ],
   "source": [
    "print(result)"
   ]
  },
  {
   "cell_type": "markdown",
   "metadata": {
    "_cell_guid": "809e5843-871e-4b95-8599-1920d2cbca42",
    "_uuid": "0b7a120649a0bc0ccda0a2487c069c3bc04b234a"
   },
   "source": [
    "打印输出"
   ]
  },
  {
   "cell_type": "code",
   "execution_count": 22,
   "metadata": {
    "_cell_guid": "6ecacbd2-b4ad-0b4a-b744-5f415047509a",
    "_uuid": "fd43d716888ac22d963714a3b27eaab9dbca36fb"
   },
   "outputs": [],
   "source": [
    "df = pd.DataFrame({\"PassengerId\": testset['PassengerId'],\"Survived\": result})\n",
    "df.to_csv('submission.csv',header=True, index=False)\n"
   ]
  },
  {
   "cell_type": "code",
   "execution_count": null,
   "metadata": {
    "_uuid": "cd0bd28d67e303d0b9137be568e79352cd67509e",
    "collapsed": true,
    "jupyter": {
     "outputs_hidden": true
    }
   },
   "outputs": [],
   "source": []
  }
 ],
 "metadata": {
  "_change_revision": 0,
  "_is_fork": false,
  "kernelspec": {
   "display_name": "Python 3",
   "language": "python",
   "name": "python3"
  },
  "language_info": {
   "codemirror_mode": {
    "name": "ipython",
    "version": 3
   },
   "file_extension": ".py",
   "mimetype": "text/x-python",
   "name": "python",
   "nbconvert_exporter": "python",
   "pygments_lexer": "ipython3",
   "version": "3.7.4"
  }
 },
 "nbformat": 4,
 "nbformat_minor": 4
}
